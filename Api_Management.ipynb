{
 "cells": [
  {
   "attachments": {},
   "cell_type": "markdown",
   "metadata": {},
   "source": [
    "### API calls management\n",
    "Keep track of the tokens used in each API call, and make sure to manage your API calls efficiently. OpenAI's tiktoken Python library can be used to count tokens in a text string without making an API call.\n",
    "\n",
    "Requires Python >= 3.8\n",
    "\n",
    "Install: `pip install nltk openai transformers tensorflow openai-tiktoken`"
   ]
  },
  {
   "cell_type": "code",
   "execution_count": 19,
   "metadata": {},
   "outputs": [],
   "source": [
    "import openai\n",
    "import re\n",
    "import tiktoken"
   ]
  },
  {
   "cell_type": "code",
   "execution_count": null,
   "metadata": {},
   "outputs": [],
   "source": [
    "# Set up OpenAI API key\n",
    "openai.api_key = \"your_openai_api_key\""
   ]
  },
  {
   "cell_type": "code",
   "execution_count": 25,
   "metadata": {},
   "outputs": [],
   "source": [
    "summarized_text = \"\"\"machine learning application artificial intelligence (ai) provides systems ability automatically learn improve experience without explicitly programmed . machine learning focuses development computer programs access data use learn . process learning begins observations data, examples , examples , direct experience , instruction , order look patterns data make better decisions . primary aim allow computers learn automatically without human intervention assistance adjust actions accordingly .\"\"\""
   ]
  },
  {
   "cell_type": "code",
   "execution_count": 21,
   "metadata": {},
   "outputs": [],
   "source": [
    "encoding = tiktoken.get_encoding(\"cl100k_base\")\n",
    "encoding = tiktoken.encoding_for_model(\"gpt-3.5-turbo\")"
   ]
  },
  {
   "cell_type": "code",
   "execution_count": 26,
   "metadata": {},
   "outputs": [
    {
     "data": {
      "text/plain": [
       "[33156,\n",
       " 6975,\n",
       " 3851,\n",
       " 21075,\n",
       " 11478,\n",
       " 320,\n",
       " 2192,\n",
       " 8,\n",
       " 5825,\n",
       " 6067,\n",
       " 5845,\n",
       " 9651,\n",
       " 4048,\n",
       " 7417,\n",
       " 3217,\n",
       " 2085,\n",
       " 21650,\n",
       " 56168,\n",
       " 662,\n",
       " 5780,\n",
       " 6975,\n",
       " 24400,\n",
       " 4500,\n",
       " 6500,\n",
       " 7620,\n",
       " 2680,\n",
       " 828,\n",
       " 1005,\n",
       " 4048,\n",
       " 662,\n",
       " 1920,\n",
       " 6975,\n",
       " 12302,\n",
       " 24654,\n",
       " 828,\n",
       " 11,\n",
       " 10507,\n",
       " 1174,\n",
       " 10507,\n",
       " 1174,\n",
       " 2167,\n",
       " 3217,\n",
       " 1174,\n",
       " 7754,\n",
       " 1174,\n",
       " 2015,\n",
       " 1427,\n",
       " 12912,\n",
       " 828,\n",
       " 1304,\n",
       " 2731,\n",
       " 11429,\n",
       " 662,\n",
       " 6156,\n",
       " 9395,\n",
       " 2187,\n",
       " 19002,\n",
       " 4048,\n",
       " 9651,\n",
       " 2085,\n",
       " 3823,\n",
       " 21623,\n",
       " 13291,\n",
       " 7652,\n",
       " 6299,\n",
       " 28178,\n",
       " 662]"
      ]
     },
     "execution_count": 26,
     "metadata": {},
     "output_type": "execute_result"
    }
   ],
   "source": [
    "encoding.encode(summarized_text)"
   ]
  },
  {
   "cell_type": "code",
   "execution_count": 23,
   "metadata": {},
   "outputs": [],
   "source": [
    "def num_tokens_from_string(string: str, encoding_name: str) -> int:\n",
    "    \"\"\"Returns the number of tokens in a text string.\"\"\"\n",
    "    encoding = tiktoken.get_encoding(encoding_name)\n",
    "    num_tokens = len(encoding.encode(string))\n",
    "    return num_tokens"
   ]
  },
  {
   "cell_type": "code",
   "execution_count": 27,
   "metadata": {},
   "outputs": [
    {
     "data": {
      "text/plain": [
       "67"
      ]
     },
     "execution_count": 27,
     "metadata": {},
     "output_type": "execute_result"
    }
   ],
   "source": [
    "num_tokens_from_string(summarized_text, \"cl100k_base\")"
   ]
  }
 ],
 "metadata": {
  "kernelspec": {
   "display_name": "new_venv",
   "language": "python",
   "name": "python3"
  },
  "language_info": {
   "codemirror_mode": {
    "name": "ipython",
    "version": 3
   },
   "file_extension": ".py",
   "mimetype": "text/x-python",
   "name": "python",
   "nbconvert_exporter": "python",
   "pygments_lexer": "ipython3",
   "version": "3.8.16"
  },
  "orig_nbformat": 4
 },
 "nbformat": 4,
 "nbformat_minor": 2
}
